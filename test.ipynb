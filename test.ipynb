{
 "cells": [
  {
   "cell_type": "code",
   "execution_count": 1,
   "metadata": {},
   "outputs": [
    {
     "data": {
      "image/png": "[encoded data removed]",
      "text/plain": [
       "<Figure size 640x480 with 1 Axes>"
      ]
     },
     "metadata": {},
     "output_type": "display_data"
    }
   ],
   "source": [
    "import numpy as np\n",
    "\n",
    "import matplotlib.pyplot as plt\n",
    "\n",
    "# Load the npy file\n",
    "data = np.load('Fashion-How_2024_subtask4/data/img_feats/BG-002.npy')\n",
    "\n",
    "# Display the data using matplotlib\n",
    "plt.imshow(data)\n",
    "plt.show()"
   ]
  },
  {
   "cell_type": "code",
   "execution_count": null,
   "metadata": {},
   "outputs": [],
   "source": [
    "from transformers import LlavaNextForConditionalGeneration,LlavaNextProcessor\n",
    "import torch\n",
    "\n",
    "model = LlavaNextForConditionalGeneration.from_pretrained(\n",
    "  'Bllossom/llama-3.1-Korean-Bllossom-Vision-8B',\n",
    "  torch_dtype=torch.bfloat16,\n",
    "  device_map='auto'\n",
    ")\n",
    "processor = LlavaNextProcessor.from_pretrained('Bllossom/llama-3.1-Korean-Bllossom-Vision-8B')\n",
    "\n",
    "with torch.no_grad():\n",
    "\n",
    "    PROMPT=\\\n",
    "    \"\"\"You are a versatile AI assistant named Bllava, capable of both understanding and generating text as well as interpreting and analyzing images. Your role is to kindly and effectively answer the user’s questions, whether they are about text or images, and provide appropriate and helpful responses to all types of queries.\n",
    "    \n",
    "    당신은 텍스트를 이해하고 생성하는 것뿐만 아니라 이미지를 해석하고 분석할 수 있는 다재다능한 AI 어시스턴트 블라바입니다. 사용자의 질문이 텍스트에 관한 것이든 이미지에 관한 것이든 친절하고 효과적으로 답변하며, 모든 유형의 질의에 대해 적절하고 유용한 응답을 제공하는 것이 당신의 역할입니다.\"\"\"\n",
    "\n",
    "    instruction = '자연어처리 15주 분량 커리큘럼을 짜줘'\n",
    "    \n",
    "    messages = [\n",
    "        {'role': 'system', 'content': f\"{PROMPT}\"},\n",
    "        {'role': 'user', 'content': f\"{instruction}\"}\n",
    "    ]\n",
    "\n",
    "    chat_messages = processor.tokenizer.apply_chat_template(\n",
    "        messages,\n",
    "        tokenize=True,\n",
    "        add_generation_prompt=True,\n",
    "        return_tensors='pt',\n",
    "    )\n",
    "    \n",
    "    bos_token = processor.tokenizer.bos_token_id\n",
    "    chat_messages = torch.cat([torch.tensor([[bos_token]]),chat_messages],dim=-1).to(model.device)\n",
    "    \n",
    "\n",
    "    output = model.generate(\n",
    "        input_ids = chat_messages,\n",
    "        use_cache=False,\n",
    "        max_new_tokens=2048,\n",
    "        top_p=0.9,\n",
    "        temperature=0.6,\n",
    "        do_sample=True,\n",
    "    )\n",
    "\n",
    "    print(processor.tokenizer.decode(output[0]))\n"
   ]
  },
  {
   "cell_type": "code",
   "execution_count": null,
   "metadata": {},
   "outputs": [],
   "source": [
    "from PIL import Image\n",
    "from transformers import LlavaNextForConditionalGeneration,LlavaNextProcessor\n",
    "import torch\n",
    "\n",
    "model = LlavaNextForConditionalGeneration.from_pretrained(\n",
    "  'Bllossom/llama-3.1-Korean-Bllossom-Vision-8B',\n",
    "  torch_dtype=torch.bfloat16,\n",
    "  device_map='auto'\n",
    ")\n",
    "processor = LlavaNextProcessor.from_pretrained('Bllossom/llama-3.1-Korean-Bllossom-Vision-8B')\n",
    "\n",
    "image = Image.open('[IMAGE_PATH]').convert('RGB')\n",
    "\n",
    "PROMPT=\\\n",
    "\"\"\"You are a versatile AI assistant named Bllava, capable of both understanding and generating text as well as interpreting and analyzing images. Your role is to kindly and effectively answer the user’s questions, whether they are about text or images, and provide appropriate and helpful responses to all types of queries.\n",
    "\n",
    "당신은 텍스트를 이해하고 생성하는 것뿐만 아니라 이미지를 해석하고 분석할 수 있는 다재다능한 AI 어시스턴트 블라바입니다. 사용자의 질문이 텍스트에 관한 것이든 이미지에 관한 것이든 친절하고 효과적으로 답변하며, 모든 유형의 질의에 대해 적절하고 유용한 응답을 제공하는 것이 당신의 역할입니다.\"\"\"\n",
    "\n",
    "\n",
    "instruction = '이미지에 대해서 설명해주세요.'\n",
    "messages = [\n",
    "    {'role': 'system', 'content': f\"{PROMPT}\"},\n",
    "    {'role': 'user', 'content': f\"<image>\\n{instruction}\"}\n",
    "]\n",
    "\n",
    "chat_messages = processor.tokenizer.apply_chat_template(\n",
    "  messages,\n",
    "  tokenize=False,\n",
    "  add_generation_prompt=True\n",
    ").to(model.device)\n",
    "\n",
    "inputs = processor(\n",
    "    chat_messages,\n",
    "    image,\n",
    "    return_tensors='pt',\n",
    ")\n",
    "\n",
    "output = model.generate(\n",
    "    **inputs,\n",
    "    max_new_tokens=1024,\n",
    "    )\n",
    "\n",
    "print(processor.tokenizer.decode(output[0]))\n"
   ]
  }
 ],
 "metadata": {
  "kernelspec": {
   "display_name": "dust",
   "language": "python",
   "name": "python3"
  },
  "language_info": {
   "codemirror_mode": {
    "name": "ipython",
    "version": 3
   },
   "file_extension": ".py",
   "mimetype": "text/x-python",
   "name": "python",
   "nbconvert_exporter": "python",
   "pygments_lexer": "ipython3",
   "version": "3.12.2"
  }
 },
 "nbformat": 4,
 "nbformat_minor": 2
}
